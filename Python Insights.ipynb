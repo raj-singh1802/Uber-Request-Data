{
  "metadata": {
    "kernelspec": {
      "name": "python",
      "display_name": "Python (Pyodide)",
      "language": "python"
    },
    "language_info": {
      "codemirror_mode": {
        "name": "python",
        "version": 3
      },
      "file_extension": ".py",
      "mimetype": "text/x-python",
      "name": "python",
      "nbconvert_exporter": "python",
      "pygments_lexer": "ipython3",
      "version": "3.8"
    }
  },
  "nbformat_minor": 5,
  "nbformat": 4,
  "cells": [
    {
      "id": "5c032025-d873-4fa4-8f41-075b659d863c",
      "cell_type": "code",
      "source": "import pandas as pd",
      "metadata": {
        "trusted": true
      },
      "outputs": [],
      "execution_count": 3
    },
    {
      "id": "83cc373b-b848-45af-bd67-68b264cbfde2",
      "cell_type": "code",
      "source": "df = pd.read_csv('Preprocessed-Data-1.csv')\n",
      "metadata": {
        "trusted": true
      },
      "outputs": [],
      "execution_count": 6
    },
    {
      "id": "85dc707e-dcb4-4167-9bb8-83d53c7d9597",
      "cell_type": "code",
      "source": "#Checking for Missing Values\nprint(df.isnull().sum())\n",
      "metadata": {
        "trusted": true
      },
      "outputs": [
        {
          "name": "stdout",
          "output_type": "stream",
          "text": "Request id                    0\nPickup point                  0\nDriver id                  2650\nStatus                        0\nRequest Date                  0\nRequest Time                  0\nRequest Hour                  0\nRequest Day                   0\nTime Slot                     0\nTrip Duration (minutes)       0\nDrop Date                  3914\nDrop Time                  3914\ndtype: int64\n"
        }
      ],
      "execution_count": 7
    },
    {
      "id": "1d57c74e-e304-493d-94f2-b66fa792e752",
      "cell_type": "code",
      "source": "#Viewing data samples\nprint(df.head())\n",
      "metadata": {
        "trusted": true
      },
      "outputs": [
        {
          "name": "stdout",
          "output_type": "stream",
          "text": "   Request id Pickup point  Driver id          Status Request Date  \\\n0         619      Airport        1.0  Trip Completed   11/07/2016   \n1         867      Airport        1.0  Trip Completed   11/07/2016   \n2        1807         City        1.0  Trip Completed   12/07/2016   \n3        2532      Airport        1.0  Trip Completed   12/07/2016   \n4        3112         City        1.0  Trip Completed   13/07/2016   \n\n  Request Time  Request Hour Request Day  Time Slot Trip Duration (minutes)  \\\n0     11:51:00            11      Monday    Morning                      69   \n1     17:57:00            17      Monday  Afternoon                      50   \n2     09:17:00             9     Tuesday    Morning                      41   \n3     21:08:00            21     Tuesday    Evening                      55   \n4     08:33:16             8   Wednesday    Morning                   52.52   \n\n    Drop Date Drop Time  \n0  11/07/2016  13:00:00  \n1  11/07/2016  18:47:00  \n2  12/07/2016  09:58:00  \n3  12/07/2016  22:03:00  \n4  13/07/2016  09:25:47  \n"
        }
      ],
      "execution_count": 8
    },
    {
      "id": "2282f219-609e-4a35-a116-ee1ebd0e2ef5",
      "cell_type": "code",
      "source": "#Trip Status Distribution\nprint(df['Status'].value_counts())\n",
      "metadata": {
        "trusted": true
      },
      "outputs": [
        {
          "name": "stdout",
          "output_type": "stream",
          "text": "Status\nTrip Completed       2831\nNo Cars Available    2650\nCancelled            1264\nName: count, dtype: int64\n"
        }
      ],
      "execution_count": 8
    },
    {
      "id": "bbfa06d2-93de-433b-8998-8e4446ee2185",
      "cell_type": "code",
      "source": "#Pickup Point Distribution\nprint(df['Pickup point'].value_counts())\n",
      "metadata": {
        "trusted": true
      },
      "outputs": [
        {
          "name": "stdout",
          "output_type": "stream",
          "text": "Pickup point\nCity       3507\nAirport    3238\nName: count, dtype: int64\n"
        }
      ],
      "execution_count": 9
    },
    {
      "id": "fc595342-c977-46e5-b25b-2351e1392e4a",
      "cell_type": "code",
      "source": "#Demand by Day of the Week\nprint(df['Request Day'].value_counts())\n",
      "metadata": {
        "trusted": true
      },
      "outputs": [
        {
          "name": "stdout",
          "output_type": "stream",
          "text": "Request Day\nFriday       1381\nMonday       1367\nThursday     1353\nWednesday    1337\nTuesday      1307\nName: count, dtype: int64\n"
        }
      ],
      "execution_count": 10
    },
    {
      "id": "06b5a136-4758-41b8-9bf4-7734f33c731c",
      "cell_type": "code",
      "source": "#Demand by Time Slot\nprint(df['Time Slot'].value_counts())\n",
      "metadata": {
        "trusted": true
      },
      "outputs": [
        {
          "name": "stdout",
          "output_type": "stream",
          "text": "Time Slot\nEvening      2422\nMorning      2072\nAfternoon    1228\nNight        1023\nName: count, dtype: int64\n"
        }
      ],
      "execution_count": 11
    },
    {
      "id": "5279b60c-4fd8-4533-8af4-39a9557aa2e6",
      "cell_type": "code",
      "source": "#Trip Duration Analysis (Completed Trips)\ncompleted = df[df['Status'] == 'Trip Completed']\nprint(completed['Trip Duration (minutes)'].describe())\n",
      "metadata": {
        "trusted": true
      },
      "outputs": [
        {
          "name": "stdout",
          "output_type": "stream",
          "text": "count    2831.000000\nmean       98.404712\nstd       243.933283\nmin        20.780000\n25%        41.000000\n50%        53.000000\n75%        65.000000\nmax      1413.030000\nName: Trip Duration (minutes), dtype: float64\n"
        }
      ],
      "execution_count": 12
    },
    {
      "id": "f7a95692-b993-4cec-9232-526e343c084e",
      "cell_type": "code",
      "source": "# Average Trip Duration by Pickup Point\nprint(completed.groupby('Pickup point')['Trip Duration (minutes)'].mean())\n",
      "metadata": {
        "trusted": true
      },
      "outputs": [
        {
          "name": "stdout",
          "output_type": "stream",
          "text": "Pickup point\nAirport    112.326963\nCity        86.120918\nName: Trip Duration (minutes), dtype: float64\n"
        }
      ],
      "execution_count": 13
    },
    {
      "id": "92f7aa70-42dc-45d7-9292-7d6939f93afb",
      "cell_type": "code",
      "source": "#Demand by Hour\nprint(df['Request Hour'].value_counts().sort_index())\n",
      "metadata": {
        "trusted": true
      },
      "outputs": [
        {
          "name": "stdout",
          "output_type": "stream",
          "text": "Request Hour\n0      99\n1      85\n2      99\n3      92\n4     203\n5     445\n6     398\n7     406\n8     423\n9     431\n10    243\n11    171\n12    184\n13    160\n14    136\n15    171\n16    159\n17    418\n18    510\n19    473\n20    492\n21    449\n22    304\n23    194\nName: count, dtype: int64\n"
        }
      ],
      "execution_count": 14
    },
    {
      "id": "b94f84f9-55da-4b73-8696-7b53039052b0",
      "cell_type": "code",
      "source": "",
      "metadata": {
        "trusted": true
      },
      "outputs": [],
      "execution_count": null
    }
  ]
}